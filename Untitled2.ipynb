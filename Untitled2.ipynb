{
 "cells": [
  {
   "cell_type": "code",
   "execution_count": 1,
   "metadata": {},
   "outputs": [],
   "source": [
    "import pandas as pd\n",
    "import requests"
   ]
  },
  {
   "cell_type": "code",
   "execution_count": 2,
   "metadata": {},
   "outputs": [],
   "source": [
    "# CONST\n",
    "\n",
    "DOMAIN =  \"https://api.vk.com/method\"\n",
    "ACCESS_TOKEN = \"c7ca07548d8fb2a4d39bb36fda8d1514ec452fcb7b5e2e94de505507b0f53d20651ab99ab3437d57aef93\"\n",
    "VERSION = \"5.103\""
   ]
  },
  {
   "cell_type": "code",
   "execution_count": 3,
   "metadata": {},
   "outputs": [
    {
     "data": {
      "text/plain": [
       "{'id': 10003,\n",
       " 'first_name': 'Никита',\n",
       " 'last_name': 'Наумов',\n",
       " 'is_closed': False,\n",
       " 'can_access_closed': True,\n",
       " 'sex': 2,\n",
       " 'counters': {'albums': 2,\n",
       "  'videos': 56,\n",
       "  'audios': 274,\n",
       "  'photos': 40,\n",
       "  'gifts': 73,\n",
       "  'friends': 239,\n",
       "  'online_friends': 13,\n",
       "  'mutual_friends': 0,\n",
       "  'followers': 469,\n",
       "  'subscriptions': 0,\n",
       "  'pages': 56}}"
      ]
     },
     "execution_count": 3,
     "metadata": {},
     "output_type": "execute_result"
    }
   ],
   "source": [
    "query = (f\"{DOMAIN}/\" +\n",
    "                        \"users.get?\" +\n",
    "                        f\"access_token={ACCESS_TOKEN}&\" +\n",
    "                        f\"user_ids=10003&\" +\n",
    "                        f\"fields=sex,counters&\" +\n",
    "                        f\"v={VERSION}\")\n",
    "response = requests.get(query)\n",
    "response = response.json()[\"response\"][0]\n",
    "response"
   ]
  },
  {
   "cell_type": "code",
   "execution_count": 4,
   "metadata": {},
   "outputs": [],
   "source": [
    "data = {\n",
    "    \"IDS\": [],\n",
    "    \"SEXES\": [],\n",
    "    \"VIDEOS\": [],\n",
    "    \"PHOTOS\": [],\n",
    "    \"GIFTS\": [],\n",
    "    \"AUDIOS\": [],\n",
    "    \"FRIENDS\": [],\n",
    "    \"FOLLOWERS\": [],\n",
    "}\n"
   ]
  },
  {
   "cell_type": "code",
   "execution_count": null,
   "metadata": {},
   "outputs": [],
   "source": [
    "i = 313489913\n",
    "while len(data[\"IDS\"]) < 100:\n",
    "    try:\n",
    "        query = (f\"{DOMAIN}/\" +\n",
    "                    \"users.get?\" +\n",
    "                    f\"access_token={ACCESS_TOKEN}&\" +\n",
    "                    f\"user_ids={i}&\" +\n",
    "                    f\"fields=sex,counters&\" +\n",
    "                    f\"v={VERSION}\")\n",
    "        response = requests.get(query)\n",
    "        response = response.json()[\"response\"][0]\n",
    "\n",
    "        data[\"SEXES\"].append(response[\"sex\"])\n",
    "        data[\"VIDEOS\"].append(response[\"counters\"][\"videos\"])\n",
    "        data[\"PHOTOS\"].append(response[\"counters\"][\"photos\"])\n",
    "        data[\"GIFTS\"].append(response[\"counters\"][\"gifts\"])\n",
    "        data[\"AUDIOS\"].append(response[\"counters\"][\"audios\"])\n",
    "        data[\"FRIENDS\"].append(response[\"counters\"][\"friends\"])\n",
    "        data[\"FOLLOWERS\"].append(response[\"counters\"][\"followers\"])\n",
    "        data[\"IDS\"].append(i)\n",
    "        i += 1\n",
    "    except:\n",
    "        for col in data:\n",
    "            if len(data[col]) != len(data[\"IDS\"]):\n",
    "                del data[col][-1]\n",
    "    "
   ]
  },
  {
   "cell_type": "code",
   "execution_count": null,
   "metadata": {},
   "outputs": [],
   "source": [
    "df = pd.DataFrame(data)"
   ]
  },
  {
   "cell_type": "code",
   "execution_count": null,
   "metadata": {},
   "outputs": [],
   "source": [
    "df.to_csv(\"gender.csv\", index = False)"
   ]
  },
  {
   "cell_type": "code",
   "execution_count": null,
   "metadata": {},
   "outputs": [],
   "source": []
  }
 ],
 "metadata": {
  "kernelspec": {
   "display_name": "cs102",
   "language": "python",
   "name": "cs102"
  },
  "language_info": {
   "codemirror_mode": {
    "name": "ipython",
    "version": 3
   },
   "file_extension": ".py",
   "mimetype": "text/x-python",
   "name": "python",
   "nbconvert_exporter": "python",
   "pygments_lexer": "ipython3",
   "version": "3.7.4"
  }
 },
 "nbformat": 4,
 "nbformat_minor": 4
}
